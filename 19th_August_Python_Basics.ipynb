{
 "cells": [
  {
   "cell_type": "markdown",
   "id": "a679a768-d44a-45a3-8ea4-afee44445e78",
   "metadata": {},
   "source": [
    "TOPIC: Python Basics Variable"
   ]
  },
  {
   "cell_type": "code",
   "execution_count": 6,
   "id": "a081d98a-5e98-4086-85e0-b66fb8ebfa4d",
   "metadata": {},
   "outputs": [
    {
     "name": "stdout",
     "output_type": "stream",
     "text": [
      "Before swap x: 5 y: 10\n",
      "After swap x: 10 y: 5\n"
     ]
    }
   ],
   "source": [
    "\"\"\"1. Declare two variables, `x` and `y`, and assign them integer values. Swap the\n",
    "values of these variables without using any temporary variable.\"\"\"\n",
    "\n",
    "x = 5\n",
    "y = 10\n",
    "print(\"Before swap x:\",x,\"y:\",y)\n",
    "x = x + y\n",
    "y = x-y\n",
    "x = x-y\n",
    "print(\"After swap x:\",x,\"y:\",y)"
   ]
  },
  {
   "cell_type": "code",
   "execution_count": 19,
   "id": "f12de0ea-ce7a-4db1-bbc6-509baeafec12",
   "metadata": {},
   "outputs": [
    {
     "name": "stdin",
     "output_type": "stream",
     "text": [
      "Enter length of rectangle : 2\n",
      "Enter Breadth of rectangle : 3\n"
     ]
    },
    {
     "name": "stdout",
     "output_type": "stream",
     "text": [
      "The area of rectangle is = 6.0\n"
     ]
    }
   ],
   "source": [
    "\"\"\"2. Create a program that calculates the area of a rectangle. Take the length and\n",
    "width as inputs from the user and store them in variables. Calculate and\n",
    "display the area.\"\"\"\n",
    "\n",
    "Length = float(input(\"Enter length of rectangle :\"))\n",
    "Breadth = float(input(\"Enter Breadth of rectangle :\"))\n",
    "Area = Length*Breadth\n",
    "print(\"The area of rectangle is =\",Area)"
   ]
  },
  {
   "cell_type": "code",
   "execution_count": 25,
   "id": "c3c5cc59-53ee-4e9d-b7d8-f397db669794",
   "metadata": {},
   "outputs": [
    {
     "name": "stdin",
     "output_type": "stream",
     "text": [
      "Enter Temperature in Celsius : 2\n"
     ]
    },
    {
     "name": "stdout",
     "output_type": "stream",
     "text": [
      "Celsius to Fahrenheit : 35.6\n"
     ]
    }
   ],
   "source": [
    "\"\"\"3. Write a Python program that converts temperatures from Celsius to\n",
    "Fahrenheit. Take the temperature in Celsius as input, store it in a variable,\n",
    "convert it to Fahrenheit, and display the result.\"\"\"\n",
    "\n",
    "Celsius = float(input(\"Enter Temperature in Celsius :\"))\n",
    "Cel_to_fah = (Celsius*1.8)+32\n",
    "print(\"Celsius to Fahrenheit :\",Cel_to_fah)\n",
    "                "
   ]
  },
  {
   "cell_type": "markdown",
   "id": "a981e0ff-4bdd-407a-a8bf-13476d96e9c6",
   "metadata": {},
   "source": [
    "TOPIC: String Based Questions"
   ]
  },
  {
   "cell_type": "code",
   "execution_count": 29,
   "id": "dcdac50a-0ec7-4702-87d7-031658656f78",
   "metadata": {},
   "outputs": [
    {
     "name": "stdin",
     "output_type": "stream",
     "text": [
      "Enter any string : Nishant\n"
     ]
    },
    {
     "name": "stdout",
     "output_type": "stream",
     "text": [
      "The length of the string is : 7\n"
     ]
    }
   ],
   "source": [
    "\"\"\"1. Write a Python program that takes a string as input and prints the length of\n",
    "the string.\"\"\"\n",
    "\n",
    "string = input(\"Enter any string :\")\n",
    "length = len(string)\n",
    "print(\"The length of the string is :\",length)"
   ]
  },
  {
   "cell_type": "code",
   "execution_count": 35,
   "id": "d6103966-0843-49f7-aeec-1880f2e58fd1",
   "metadata": {},
   "outputs": [
    {
     "name": "stdin",
     "output_type": "stream",
     "text": [
      "Enter a sentence : aeioudfsfd\n"
     ]
    },
    {
     "name": "stdout",
     "output_type": "stream",
     "text": [
      "Number of vowels are : 5\n"
     ]
    }
   ],
   "source": [
    "\"\"\"2. Create a program that takes a sentence from the user and counts the number\n",
    "of vowels (a, e, i, o, u) in the string.\"\"\"\n",
    "\n",
    "sentence = input(\"Enter a sentence :\")\n",
    "vowels = 0\n",
    "for i in sentence:\n",
    "    if (i==\"a\" or i==\"e\" or i==\"i\" or i==\"o\" or i==\"u\"):\n",
    "        vowels = vowels+1\n",
    "print(\"Number of vowels are :\",vowels)"
   ]
  },
  {
   "cell_type": "code",
   "execution_count": 38,
   "id": "70402592-620e-4574-9f0e-ad0dc5e6b629",
   "metadata": {},
   "outputs": [
    {
     "name": "stdin",
     "output_type": "stream",
     "text": [
      "Enter any phrase : Nishant Swami\n"
     ]
    },
    {
     "name": "stdout",
     "output_type": "stream",
     "text": [
      "imawS tnahsiN\n"
     ]
    }
   ],
   "source": [
    "\"\"\"3. Given a string, reverse the order of characters using string slicing and print\n",
    "the reversed string.\"\"\"\n",
    "\n",
    "phrase = input(\"Enter any phrase :\")\n",
    "print(phrase[-1::-1])"
   ]
  },
  {
   "cell_type": "code",
   "execution_count": 41,
   "id": "eca00370-63c7-431f-997e-be32c3f511e1",
   "metadata": {},
   "outputs": [
    {
     "name": "stdin",
     "output_type": "stream",
     "text": [
      "Enter any word to check if it is palindrome or not: civic\n"
     ]
    },
    {
     "name": "stdout",
     "output_type": "stream",
     "text": [
      "Yes it is a palindrome\n"
     ]
    }
   ],
   "source": [
    "\"\"\"4 .Write a program that takes a string as input and checks if it is a palindrome\n",
    "(reads the same forwards and backwards).\"\"\"\n",
    "\n",
    "Word = input(\"Enter any word to check if it is palindrome or not:\")\n",
    "if(Word==Word[-1::-1]):\n",
    "    print(\"Yes it is a palindrome\")\n",
    "else:\n",
    "    print(\"No it is not a palindrome\")\n"
   ]
  },
  {
   "cell_type": "code",
   "execution_count": 44,
   "id": "969aa4bf-7f34-4443-acae-a5f0c90ed7b2",
   "metadata": {},
   "outputs": [
    {
     "name": "stdin",
     "output_type": "stream",
     "text": [
      "Enter any string : dfgdfgdf    fdfsfds   \n"
     ]
    },
    {
     "name": "stdout",
     "output_type": "stream",
     "text": [
      "dfgdfgdffdfsfds\n"
     ]
    }
   ],
   "source": [
    "\"\"\"5. Create a program that takes a string as input and removes all the spaces from\n",
    "it. Print the modified string without spaces.\"\"\"\n",
    "\n",
    "string_1 = input(\"Enter any string :\")\n",
    "print(string_1.replace(\" \",\"\"))\n"
   ]
  }
 ],
 "metadata": {
  "kernelspec": {
   "display_name": "Python 3 (ipykernel)",
   "language": "python",
   "name": "python3"
  },
  "language_info": {
   "codemirror_mode": {
    "name": "ipython",
    "version": 3
   },
   "file_extension": ".py",
   "mimetype": "text/x-python",
   "name": "python",
   "nbconvert_exporter": "python",
   "pygments_lexer": "ipython3",
   "version": "3.10.8"
  }
 },
 "nbformat": 4,
 "nbformat_minor": 5
}
